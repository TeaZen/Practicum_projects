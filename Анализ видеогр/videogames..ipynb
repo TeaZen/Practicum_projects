#Импортируем необходимые для работы над проектом библиотеки:

import pandas as pd
import matplotlib.pyplot as plt
import seaborn as sns
from scipy import stats as st
