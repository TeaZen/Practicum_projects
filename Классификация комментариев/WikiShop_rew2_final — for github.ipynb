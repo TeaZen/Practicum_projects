{
 "cells": [
  {
   "cell_type": "markdown",
   "metadata": {},
   "source": [
    "# Проект для «Викишоп»"
   ]
  },
  {
   "cell_type": "markdown",
   "metadata": {},
   "source": [
    "**Импорты**"
   ]
  },
  {
   "cell_type": "code",
   "execution_count": 1,
   "metadata": {},
   "outputs": [
    {
     "name": "stderr",
     "output_type": "stream",
     "text": [
      "[nltk_data] Downloading package punkt to /home/jovyan/nltk_data...\n",
      "[nltk_data]   Package punkt is already up-to-date!\n",
      "[nltk_data] Downloading package wordnet to /home/jovyan/nltk_data...\n",
      "[nltk_data]   Package wordnet is already up-to-date!\n",
      "[nltk_data] Downloading package stopwords to /home/jovyan/nltk_data...\n",
      "[nltk_data]   Package stopwords is already up-to-date!\n",
      "[nltk_data] Downloading package omw-1.4 to /home/jovyan/nltk_data...\n",
      "[nltk_data] Downloading package averaged_perceptron_tagger to\n",
      "[nltk_data]     /home/jovyan/nltk_data...\n",
      "[nltk_data]   Unzipping taggers/averaged_perceptron_tagger.zip.\n"
     ]
    }
   ],
   "source": [
    "import time\n",
    "import pandas as pd\n",
    "import matplotlib.pyplot as plt\n",
    "import numpy as np\n",
    "import re\n",
    "from sklearn.feature_extraction.text import TfidfVectorizer\n",
    "from sklearn.model_selection import train_test_split\n",
    "from sklearn.model_selection import GridSearchCV\n",
    "from sklearn.linear_model import LogisticRegression\n",
    "from sklearn.tree import DecisionTreeClassifier\n",
    "from sklearn.svm import LinearSVC\n",
    "from sklearn.metrics import f1_score\n",
    "from sklearn.pipeline import Pipeline\n",
    "from sklearn.model_selection import ParameterGrid\n",
    "import nltk\n",
    "from nltk.corpus import stopwords\n",
    "from nltk.stem import WordNetLemmatizer \n",
    "nltk.download('punkt')\n",
    "nltk.download('wordnet')\n",
    "nltk.download('stopwords')\n",
    "nltk.download('omw-1.4')\n",
    "nltk.download('averaged_perceptron_tagger')\n",
    "import string"
   ]
  },
  {
   "cell_type": "code",
   "execution_count": 2,
   "metadata": {},
   "outputs": [],
   "source": [
    "# Загрузим данные\n",
    "\n",
    "try:\n",
    "    data_comments = pd.read_csv('C:/Users/zephy/#WikiShop/toxic_comments.csv')\n",
    "except:\n",
    "    data_comments = pd.read_csv('/datasets/toxic_comments.csv')"
   ]
  },
  {
   "cell_type": "code",
   "execution_count": 3,
   "metadata": {},
   "outputs": [
    {
     "data": {
      "text/html": [
       "<div>\n",
       "<style scoped>\n",
       "    .dataframe tbody tr th:only-of-type {\n",
       "        vertical-align: middle;\n",
       "    }\n",
       "\n",
       "    .dataframe tbody tr th {\n",
       "        vertical-align: top;\n",
       "    }\n",
       "\n",
       "    .dataframe thead th {\n",
       "        text-align: right;\n",
       "    }\n",
       "</style>\n",
       "<table border=\"1\" class=\"dataframe\">\n",
       "  <thead>\n",
       "    <tr style=\"text-align: right;\">\n",
       "      <th></th>\n",
       "      <th>Unnamed: 0</th>\n",
       "      <th>text</th>\n",
       "      <th>toxic</th>\n",
       "    </tr>\n",
       "  </thead>\n",
       "  <tbody>\n",
       "    <tr>\n",
       "      <th>0</th>\n",
       "      <td>0</td>\n",
       "      <td>Explanation\\nWhy the edits made under my usern...</td>\n",
       "      <td>0</td>\n",
       "    </tr>\n",
       "    <tr>\n",
       "      <th>1</th>\n",
       "      <td>1</td>\n",
       "      <td>D'aww! He matches this background colour I'm s...</td>\n",
       "      <td>0</td>\n",
       "    </tr>\n",
       "    <tr>\n",
       "      <th>2</th>\n",
       "      <td>2</td>\n",
       "      <td>Hey man, I'm really not trying to edit war. It...</td>\n",
       "      <td>0</td>\n",
       "    </tr>\n",
       "    <tr>\n",
       "      <th>3</th>\n",
       "      <td>3</td>\n",
       "      <td>\"\\nMore\\nI can't make any real suggestions on ...</td>\n",
       "      <td>0</td>\n",
       "    </tr>\n",
       "    <tr>\n",
       "      <th>4</th>\n",
       "      <td>4</td>\n",
       "      <td>You, sir, are my hero. Any chance you remember...</td>\n",
       "      <td>0</td>\n",
       "    </tr>\n",
       "  </tbody>\n",
       "</table>\n",
       "</div>"
      ],
      "text/plain": [
       "   Unnamed: 0                                               text  toxic\n",
       "0           0  Explanation\\nWhy the edits made under my usern...      0\n",
       "1           1  D'aww! He matches this background colour I'm s...      0\n",
       "2           2  Hey man, I'm really not trying to edit war. It...      0\n",
       "3           3  \"\\nMore\\nI can't make any real suggestions on ...      0\n",
       "4           4  You, sir, are my hero. Any chance you remember...      0"
      ]
     },
     "execution_count": 3,
     "metadata": {},
     "output_type": "execute_result"
    }
   ],
   "source": [
    "# Убедимся в корректности чтения данных\n",
    "\n",
    "data_comments.head()"
   ]
  },
  {
   "cell_type": "markdown",
   "metadata": {},
   "source": [
    "## Предобработка и анализ данных"
   ]
  },
  {
   "cell_type": "code",
   "execution_count": 4,
   "metadata": {},
   "outputs": [
    {
     "name": "stdout",
     "output_type": "stream",
     "text": [
      "<class 'pandas.core.frame.DataFrame'>\n",
      "RangeIndex: 159292 entries, 0 to 159291\n",
      "Data columns (total 3 columns):\n",
      " #   Column      Non-Null Count   Dtype \n",
      "---  ------      --------------   ----- \n",
      " 0   Unnamed: 0  159292 non-null  int64 \n",
      " 1   text        159292 non-null  object\n",
      " 2   toxic       159292 non-null  int64 \n",
      "dtypes: int64(2), object(1)\n",
      "memory usage: 3.6+ MB\n"
     ]
    }
   ],
   "source": [
    "data_comments.info()"
   ]
  },
  {
   "cell_type": "code",
   "execution_count": 5,
   "metadata": {},
   "outputs": [
    {
     "data": {
      "text/plain": [
       "(159292, 3)"
      ]
     },
     "execution_count": 5,
     "metadata": {},
     "output_type": "execute_result"
    }
   ],
   "source": [
    "data_comments.shape"
   ]
  },
  {
   "cell_type": "code",
   "execution_count": 6,
   "metadata": {},
   "outputs": [
    {
     "data": {
      "text/html": [
       "<div>\n",
       "<style scoped>\n",
       "    .dataframe tbody tr th:only-of-type {\n",
       "        vertical-align: middle;\n",
       "    }\n",
       "\n",
       "    .dataframe tbody tr th {\n",
       "        vertical-align: top;\n",
       "    }\n",
       "\n",
       "    .dataframe thead th {\n",
       "        text-align: right;\n",
       "    }\n",
       "</style>\n",
       "<table border=\"1\" class=\"dataframe\">\n",
       "  <thead>\n",
       "    <tr style=\"text-align: right;\">\n",
       "      <th></th>\n",
       "      <th>text</th>\n",
       "      <th>toxic</th>\n",
       "    </tr>\n",
       "  </thead>\n",
       "  <tbody>\n",
       "    <tr>\n",
       "      <th>0</th>\n",
       "      <td>Explanation\\nWhy the edits made under my usern...</td>\n",
       "      <td>0</td>\n",
       "    </tr>\n",
       "    <tr>\n",
       "      <th>1</th>\n",
       "      <td>D'aww! He matches this background colour I'm s...</td>\n",
       "      <td>0</td>\n",
       "    </tr>\n",
       "    <tr>\n",
       "      <th>2</th>\n",
       "      <td>Hey man, I'm really not trying to edit war. It...</td>\n",
       "      <td>0</td>\n",
       "    </tr>\n",
       "    <tr>\n",
       "      <th>3</th>\n",
       "      <td>\"\\nMore\\nI can't make any real suggestions on ...</td>\n",
       "      <td>0</td>\n",
       "    </tr>\n",
       "    <tr>\n",
       "      <th>4</th>\n",
       "      <td>You, sir, are my hero. Any chance you remember...</td>\n",
       "      <td>0</td>\n",
       "    </tr>\n",
       "  </tbody>\n",
       "</table>\n",
       "</div>"
      ],
      "text/plain": [
       "                                                text  toxic\n",
       "0  Explanation\\nWhy the edits made under my usern...      0\n",
       "1  D'aww! He matches this background colour I'm s...      0\n",
       "2  Hey man, I'm really not trying to edit war. It...      0\n",
       "3  \"\\nMore\\nI can't make any real suggestions on ...      0\n",
       "4  You, sir, are my hero. Any chance you remember...      0"
      ]
     },
     "execution_count": 6,
     "metadata": {},
     "output_type": "execute_result"
    }
   ],
   "source": [
    "# Удалим лишний столбец (неинформативен)\n",
    "\n",
    "data_comments.drop('Unnamed: 0', axis=1, inplace=True)\n",
    "data_comments.head()"
   ]
  },
  {
   "cell_type": "code",
   "execution_count": 7,
   "metadata": {},
   "outputs": [
    {
     "data": {
      "text/plain": [
       "0"
      ]
     },
     "execution_count": 7,
     "metadata": {},
     "output_type": "execute_result"
    }
   ],
   "source": [
    "data_comments.duplicated().sum()"
   ]
  },
  {
   "cell_type": "code",
   "execution_count": 8,
   "metadata": {},
   "outputs": [
    {
     "name": "stdout",
     "output_type": "stream",
     "text": [
      "Количество комментариев различных типов: [143106, 16186]\n"
     ]
    },
    {
     "data": {
      "image/png": "[encoded data removed]",
      "text/plain": [
       "<Figure size 504x504 with 1 Axes>"
      ]
     },
     "metadata": {},
     "output_type": "display_data"
    }
   ],
   "source": [
    "# Посчитаем и визуализируем доли комментариев обоих типов\n",
    "\n",
    "comment_part = [len(data_comments.loc[data_comments['toxic']==0]),\n",
    "                len(data_comments.loc[data_comments['toxic']==1])\n",
    "               ]\n",
    "print('Количество комментариев различных типов:', comment_part)\n",
    "\n",
    "labels = ['Доля позитивных комментариев', 'Доля токсичных комментариев']\n",
    "explode = [0.02, 0.02]\n",
    "\n",
    "plt.figure(figsize=(7,7))\n",
    "plt.pie(comment_part,\n",
    "        labels=labels,\n",
    "        explode=explode,\n",
    "        colors=['cyan', 'magenta'],\n",
    "        autopct='%.2f%%',\n",
    "       )\n",
    "plt.title('Соотношение комментариев по степени токсичности:',\n",
    "          fontsize=15,\n",
    "          fontweight=\"bold\"\n",
    "         )\n",
    "plt.show()"
   ]
  },
  {
   "cell_type": "code",
   "execution_count": 9,
   "metadata": {},
   "outputs": [
    {
     "data": {
      "text/html": [
       "<div>\n",
       "<style scoped>\n",
       "    .dataframe tbody tr th:only-of-type {\n",
       "        vertical-align: middle;\n",
       "    }\n",
       "\n",
       "    .dataframe tbody tr th {\n",
       "        vertical-align: top;\n",
       "    }\n",
       "\n",
       "    .dataframe thead th {\n",
       "        text-align: right;\n",
       "    }\n",
       "</style>\n",
       "<table border=\"1\" class=\"dataframe\">\n",
       "  <thead>\n",
       "    <tr style=\"text-align: right;\">\n",
       "      <th></th>\n",
       "      <th>text</th>\n",
       "      <th>toxic</th>\n",
       "    </tr>\n",
       "  </thead>\n",
       "  <tbody>\n",
       "    <tr>\n",
       "      <th>0</th>\n",
       "      <td>explanation why the edits made under my userna...</td>\n",
       "      <td>0</td>\n",
       "    </tr>\n",
       "    <tr>\n",
       "      <th>1</th>\n",
       "      <td>daww he matches this background colour im seem...</td>\n",
       "      <td>0</td>\n",
       "    </tr>\n",
       "    <tr>\n",
       "      <th>2</th>\n",
       "      <td>hey man im really not trying to edit war its j...</td>\n",
       "      <td>0</td>\n",
       "    </tr>\n",
       "    <tr>\n",
       "      <th>3</th>\n",
       "      <td>more i cant make any real suggestions on impro...</td>\n",
       "      <td>0</td>\n",
       "    </tr>\n",
       "    <tr>\n",
       "      <th>4</th>\n",
       "      <td>you sir are my hero any chance you remember wh...</td>\n",
       "      <td>0</td>\n",
       "    </tr>\n",
       "  </tbody>\n",
       "</table>\n",
       "</div>"
      ],
      "text/plain": [
       "                                                text  toxic\n",
       "0  explanation why the edits made under my userna...      0\n",
       "1  daww he matches this background colour im seem...      0\n",
       "2  hey man im really not trying to edit war its j...      0\n",
       "3  more i cant make any real suggestions on impro...      0\n",
       "4  you sir are my hero any chance you remember wh...      0"
      ]
     },
     "execution_count": 9,
     "metadata": {},
     "output_type": "execute_result"
    }
   ],
   "source": [
    "# Очистим данные от разделителей строки, заглавных символов\n",
    "\n",
    "def cleaning(text):\n",
    "    text = re.sub(r\"(?:\\n|\\r)\", \" \", text)\n",
    "    text = re.sub(r\"[^a-zA-Z` ]+\", \"\", text).strip()\n",
    "    text = text.lower()\n",
    "    return text\n",
    "\n",
    "data_comments['text'] = data_comments['text'].apply(cleaning)\n",
    "data_comments.head()"
   ]
  },
  {
   "cell_type": "code",
   "execution_count": 10,
   "metadata": {},
   "outputs": [],
   "source": [
    "# Преобразуем теги POS из пакета averaged_perceptron_tagger в теги WordNet\n",
    "\n",
    "def get_wordnet_pos(treebank_tag):\n",
    "    if treebank_tag.startswith('J'):\n",
    "        return 'a'  # прилагательное\n",
    "    elif treebank_tag.startswith('V'):\n",
    "        return 'v'  # глагол\n",
    "    elif treebank_tag.startswith('N'):\n",
    "        return 'n'  # существительное\n",
    "    elif treebank_tag.startswith('R'):\n",
    "        return 'r'  # наречие\n",
    "    else:\n",
    "        return 'n'  # по умолчанию возвращаем существительное"
   ]
  },
  {
   "cell_type": "code",
   "execution_count": 11,
   "metadata": {},
   "outputs": [],
   "source": [
    "# Проведем лемматизацию\n",
    "\n",
    "lemmatizer = WordNetLemmatizer()\n",
    "punctuation = set(string.punctuation)\n",
    "stop_words = set(stopwords.words('english'))\n",
    "\n",
    "def tokenization(text):\n",
    "    tokenized = nltk.word_tokenize(text)\n",
    "    pos_tags = nltk.pos_tag(tokenized)\n",
    "    filtered_words = [word for word, tag in pos_tags if word not in stop_words and word not in punctuation]\n",
    "    filtered_tags = [tag for word, tag in pos_tags if word not in stop_words and word not in punctuation]\n",
    "    lemmatized_words = [lemmatizer.lemmatize(word, get_wordnet_pos(tag)) for word, tag in zip(filtered_words, filtered_tags)]\n",
    "    text = ' '.join(lemmatized_words)\n",
    "    return text"
   ]
  },
  {
   "cell_type": "code",
   "execution_count": 12,
   "metadata": {},
   "outputs": [
    {
     "data": {
      "text/html": [
       "<div>\n",
       "<style scoped>\n",
       "    .dataframe tbody tr th:only-of-type {\n",
       "        vertical-align: middle;\n",
       "    }\n",
       "\n",
       "    .dataframe tbody tr th {\n",
       "        vertical-align: top;\n",
       "    }\n",
       "\n",
       "    .dataframe thead th {\n",
       "        text-align: right;\n",
       "    }\n",
       "</style>\n",
       "<table border=\"1\" class=\"dataframe\">\n",
       "  <thead>\n",
       "    <tr style=\"text-align: right;\">\n",
       "      <th></th>\n",
       "      <th>text</th>\n",
       "      <th>toxic</th>\n",
       "      <th>tokenized</th>\n",
       "    </tr>\n",
       "  </thead>\n",
       "  <tbody>\n",
       "    <tr>\n",
       "      <th>0</th>\n",
       "      <td>explanation why the edits made under my userna...</td>\n",
       "      <td>0</td>\n",
       "      <td>explanation edits make username hardcore metal...</td>\n",
       "    </tr>\n",
       "    <tr>\n",
       "      <th>1</th>\n",
       "      <td>daww he matches this background colour im seem...</td>\n",
       "      <td>0</td>\n",
       "      <td>daww match background colour im seemingly stic...</td>\n",
       "    </tr>\n",
       "    <tr>\n",
       "      <th>2</th>\n",
       "      <td>hey man im really not trying to edit war its j...</td>\n",
       "      <td>0</td>\n",
       "      <td>hey man im really try edit war guy constantly ...</td>\n",
       "    </tr>\n",
       "    <tr>\n",
       "      <th>3</th>\n",
       "      <td>more i cant make any real suggestions on impro...</td>\n",
       "      <td>0</td>\n",
       "      <td>cant make real suggestion improvement wonder s...</td>\n",
       "    </tr>\n",
       "    <tr>\n",
       "      <th>4</th>\n",
       "      <td>you sir are my hero any chance you remember wh...</td>\n",
       "      <td>0</td>\n",
       "      <td>sir hero chance remember page thats</td>\n",
       "    </tr>\n",
       "  </tbody>\n",
       "</table>\n",
       "</div>"
      ],
      "text/plain": [
       "                                                text  toxic  \\\n",
       "0  explanation why the edits made under my userna...      0   \n",
       "1  daww he matches this background colour im seem...      0   \n",
       "2  hey man im really not trying to edit war its j...      0   \n",
       "3  more i cant make any real suggestions on impro...      0   \n",
       "4  you sir are my hero any chance you remember wh...      0   \n",
       "\n",
       "                                           tokenized  \n",
       "0  explanation edits make username hardcore metal...  \n",
       "1  daww match background colour im seemingly stic...  \n",
       "2  hey man im really try edit war guy constantly ...  \n",
       "3  cant make real suggestion improvement wonder s...  \n",
       "4                sir hero chance remember page thats  "
      ]
     },
     "execution_count": 12,
     "metadata": {},
     "output_type": "execute_result"
    }
   ],
   "source": [
    "data_comments['tokenized'] = data_comments['text'].apply(tokenization)\n",
    "data_comments.head()"
   ]
  },
  {
   "cell_type": "markdown",
   "metadata": {},
   "source": [
    "## Обучение моделей"
   ]
  },
  {
   "cell_type": "code",
   "execution_count": null,
   "metadata": {},
   "outputs": [],
   "source": [
    "# Разделим данные на тренировочную и тестовую выборки\n",
    "\n",
    "features = data_comments['text']\n",
    "target = data_comments['toxic']\n",
    "\n",
    "X_train, X_test, y_train, y_test = train_test_split(features,\n",
    "                                                    target,\n",
    "                                                    test_size=0.2, \n",
    "                                                    random_state=42\n",
    "                                                   )\n",
    "print('Размерности выборок:', X_train.shape, X_test.shape, 'соответственно.')"
   ]
  },
  {
   "cell_type": "code",
   "execution_count": 14,
   "metadata": {},
   "outputs": [],
   "source": [
    "def training(model, params):\n",
    "    pipeline = Pipeline(\n",
    "        [\n",
    "        ('tfidf', TfidfVectorizer(min_df=1)),\n",
    "        ('model', model)\n",
    "        ]\n",
    "    )\n",
    "    grid = GridSearchCV(pipeline,\n",
    "                        cv=3,\n",
    "                        n_jobs=-1,\n",
    "                        param_grid=params,\n",
    "                        scoring='f1',\n",
    "                        verbose=False\n",
    "                       )\n",
    "    grid.fit(X_train, y_train)\n",
    "    print('Лучший результат:', grid.best_score_)\n",
    "    print('Лучшие параметры:', grid.best_params_)\n",
    "    return grid.best_score_, grid.best_estimator_"
   ]
  },
  {
   "cell_type": "code",
   "execution_count": 16,
   "metadata": {
    "scrolled": true
   },
   "outputs": [
    {
     "name": "stdout",
     "output_type": "stream",
     "text": [
      "Лучший результат: 0.7764625431990604\n",
      "Лучшие параметры: {'model__C': 12, 'model__penalty': 'l2'}\n",
      "Время выполнения кода: 1284.09 сек.\n"
     ]
    }
   ],
   "source": [
    "start_time = time.time()\n",
    "lg_model_score, lg_model_estimator = training(LogisticRegression(random_state=42, max_iter=500),\n",
    "                                              {\"model__C\": list(np.arange(10, 13, 1)),\n",
    "                                               \"model__penalty\":['l2']\n",
    "                                               }\n",
    "                                              )\n",
    "end_time = time.time()\n",
    "lg_time = end_time - start_time\n",
    "print(f\"Время выполнения кода: {lg_time:.2f} сек.\")"
   ]
  },
  {
   "cell_type": "code",
   "execution_count": null,
   "metadata": {},
   "outputs": [],
   "source": [
    "start_time = time.time()\n",
    "dtc_model_score, dtc_model_estimator = training(DecisionTreeClassifier(random_state=42),\n",
    "                                                {'model__criterion': ['gini','entropy'],\n",
    "                                                 'model__max_depth': list(np.arange(90, 110, 10))\n",
    "                                                 }\n",
    "                                                )\n",
    "end_time = time.time()\n",
    "dtc_time = end_time - start_time\n",
    "print(f\"Время выполнения кода: {dtc_time:.2f} сек.\")"
   ]
  },
  {
   "cell_type": "code",
   "execution_count": null,
   "metadata": {},
   "outputs": [],
   "source": [
    "start_time = time.time()\n",
    "svc_model_score, svc_model_estimator = training(LinearSVC(random_state=42, max_iter=500),\n",
    "                                                {'model__C' : list(np.arange(1, 1.5, 0.1)),\n",
    "                                                 'model__penalty' : ['l1', 'l2']\n",
    "                                                 }\n",
    "                                                )\n",
    "end_time = time.time()\n",
    "svc_time = end_time - start_time\n",
    "print(f\"Время выполнения кода: {svc_time:.2f} сек.\")"
   ]
  },
  {
   "cell_type": "code",
   "execution_count": null,
   "metadata": {},
   "outputs": [],
   "source": [
    "# Создадим сводную таблицу\n",
    "\n",
    "title = 'Значения метрики качества F1'\n",
    "time = 'Время выполнения кода'\n",
    "\n",
    "best_scores = {title: [lg_model_score,\n",
    "                       dtc_model_score,\n",
    "                       svc_model_score\n",
    "                       ],\n",
    "               time: [lg_time,\n",
    "                      dtc_time,\n",
    "                      svc_time\n",
    "                     ]\n",
    "                      }\n",
    "index = ['LogisticRegression', 'DecisionTreeClassifier', 'LinearSVC']\n",
    "\n",
    "scores_data = pd.DataFrame(data=best_scores, index=index)\n",
    "\n",
    "display(scores_data.sort_values(by=title, ascending=False).style.background_gradient(cmap='Greens', axis=0))"
   ]
  },
  {
   "cell_type": "code",
   "execution_count": null,
   "metadata": {},
   "outputs": [],
   "source": [
    "# Получим метрику f1 на тестовых данных\n",
    "\n",
    "predict = svc_model_estimator.predict(X_test)\n",
    "lg_model_f1 = f1_score(y_test, predict)\n",
    "print('Показатель f1 на тестовой выборке:', round(lg_model_f1, 3))"
   ]
  },
  {
   "cell_type": "markdown",
   "metadata": {},
   "source": [
    "## Выводы"
   ]
  },
  {
   "cell_type": "markdown",
   "metadata": {},
   "source": [
    "**В результате работы над проектом были проделаны следующие шаги:**\n",
    "\n",
    "* загружены данные комментариев пользователей интернет-магазина «Викишоп» с оценкой токсичности твитов;\n",
    "* произведены предобработка и анализ данных;  \n",
    "* проведена очистка данных от разделителей строки, заглавных символов;\n",
    "* проведена лемматизация текстов;\n",
    "* произведено разделение данных на тренировочную, валидационную и тестовую выборки;\n",
    "* проведена Tf-Idf векторизацию при помощи `TfidfVectorizer`;\n",
    "* проведено обучение трех моделей (`LogisticRegression`, `DecisionTreeClassifier`, `LinearSVC`) с подбором гиперпараметров.\n",
    "\n",
    "Наилучшее значение метрики `f1` = 0.793 на тренировочных данных показала `LinearSVC` с коэффициентом регуляризации `С` = 1.2.  \n",
    "С незначительным отставанием следует `LogisticRegression` (`f1` = 0.779), она затратила наименьшее количество времени.\n",
    "`DecisionTreeClassifier` справилась с задачей хуже всего - считала в 3-5 раз дольше линейных моделей,  \n",
    "отставание по точности составило около 10% (`f1` = 0.7).\n",
    "\n",
    "Значение `f1` на тестовой выборке модели `LinearSVC` составило 0.796, что удовлетворяет условию задания (`f1` >= 0.75)."
   ]
  }
 ],
 "metadata": {
  "ExecuteTimeLog": [
   {
    "duration": 2788,
    "start_time": "2024-08-19T23:28:02.489Z"
   },
   {
    "duration": 3243,
    "start_time": "2024-08-19T23:28:05.279Z"
   },
   {
    "duration": 1354,
    "start_time": "2024-08-19T23:28:08.523Z"
   },
   {
    "duration": 12,
    "start_time": "2024-08-19T23:28:10.618Z"
   },
   {
    "duration": 34,
    "start_time": "2024-08-19T23:28:12.748Z"
   },
   {
    "duration": 4,
    "start_time": "2024-08-19T23:28:13.739Z"
   },
   {
    "duration": 16,
    "start_time": "2024-08-19T23:28:14.619Z"
   },
   {
    "duration": 227,
    "start_time": "2024-08-19T23:28:15.508Z"
   },
   {
    "duration": 135,
    "start_time": "2024-08-19T23:28:16.327Z"
   },
   {
    "duration": 2606,
    "start_time": "2024-08-19T23:28:19.496Z"
   },
   {
    "duration": 3768,
    "start_time": "2024-08-19T23:28:22.103Z"
   },
   {
    "duration": 80,
    "start_time": "2024-08-19T23:28:32.444Z"
   },
   {
    "duration": 7004,
    "start_time": "2024-08-19T23:28:33.679Z"
   },
   {
    "duration": 4,
    "start_time": "2024-08-19T23:28:40.685Z"
   },
   {
    "duration": 2494,
    "start_time": "2024-08-19T23:44:30.715Z"
   },
   {
    "duration": 1753,
    "start_time": "2024-08-19T23:44:33.212Z"
   },
   {
    "duration": 1403,
    "start_time": "2024-08-19T23:44:34.966Z"
   },
   {
    "duration": 14,
    "start_time": "2024-08-19T23:44:36.371Z"
   },
   {
    "duration": 35,
    "start_time": "2024-08-19T23:44:36.388Z"
   },
   {
    "duration": 4,
    "start_time": "2024-08-19T23:44:36.425Z"
   },
   {
    "duration": 32,
    "start_time": "2024-08-19T23:44:36.431Z"
   },
   {
    "duration": 245,
    "start_time": "2024-08-19T23:44:36.465Z"
   },
   {
    "duration": 218,
    "start_time": "2024-08-19T23:44:36.712Z"
   },
   {
    "duration": 2560,
    "start_time": "2024-08-19T23:44:36.932Z"
   },
   {
    "duration": 3216,
    "start_time": "2024-08-19T23:44:39.493Z"
   },
   {
    "duration": 90,
    "start_time": "2024-08-19T23:44:42.711Z"
   },
   {
    "duration": 6911,
    "start_time": "2024-08-19T23:44:42.803Z"
   },
   {
    "duration": 4,
    "start_time": "2024-08-19T23:44:49.718Z"
   },
   {
    "duration": 0,
    "start_time": "2024-08-19T23:58:34.862Z"
   },
   {
    "duration": 0,
    "start_time": "2024-08-19T23:58:34.864Z"
   },
   {
    "duration": 0,
    "start_time": "2024-08-19T23:58:34.869Z"
   },
   {
    "duration": 0,
    "start_time": "2024-08-19T23:58:34.871Z"
   },
   {
    "duration": 0,
    "start_time": "2024-08-19T23:58:34.872Z"
   },
   {
    "duration": 0,
    "start_time": "2024-08-19T23:58:34.873Z"
   },
   {
    "duration": 0,
    "start_time": "2024-08-19T23:58:34.874Z"
   },
   {
    "duration": 0,
    "start_time": "2024-08-19T23:58:34.875Z"
   },
   {
    "duration": 5,
    "start_time": "2024-08-19T23:58:39.391Z"
   },
   {
    "duration": 2515,
    "start_time": "2024-08-19T23:58:52.580Z"
   },
   {
    "duration": 6,
    "start_time": "2024-08-19T23:59:01.703Z"
   },
   {
    "duration": 963,
    "start_time": "2024-08-19T23:59:03.753Z"
   },
   {
    "duration": 10,
    "start_time": "2024-08-19T23:59:04.718Z"
   },
   {
    "duration": 33,
    "start_time": "2024-08-19T23:59:06.313Z"
   },
   {
    "duration": 4,
    "start_time": "2024-08-19T23:59:06.912Z"
   },
   {
    "duration": 15,
    "start_time": "2024-08-19T23:59:07.603Z"
   },
   {
    "duration": 215,
    "start_time": "2024-08-19T23:59:08.382Z"
   },
   {
    "duration": 123,
    "start_time": "2024-08-19T23:59:21.863Z"
   },
   {
    "duration": 2575,
    "start_time": "2024-08-19T23:59:33.953Z"
   },
   {
    "duration": 2436,
    "start_time": "2024-08-19T23:59:54.274Z"
   },
   {
    "duration": 1654,
    "start_time": "2024-08-19T23:59:56.712Z"
   },
   {
    "duration": 1411,
    "start_time": "2024-08-19T23:59:58.368Z"
   },
   {
    "duration": 11,
    "start_time": "2024-08-19T23:59:59.781Z"
   },
   {
    "duration": 40,
    "start_time": "2024-08-19T23:59:59.794Z"
   },
   {
    "duration": 9,
    "start_time": "2024-08-19T23:59:59.835Z"
   },
   {
    "duration": 30,
    "start_time": "2024-08-19T23:59:59.845Z"
   },
   {
    "duration": 243,
    "start_time": "2024-08-19T23:59:59.876Z"
   },
   {
    "duration": 236,
    "start_time": "2024-08-20T00:00:00.120Z"
   },
   {
    "duration": 2674,
    "start_time": "2024-08-20T00:00:00.358Z"
   },
   {
    "duration": 3197,
    "start_time": "2024-08-20T00:00:03.033Z"
   },
   {
    "duration": 82,
    "start_time": "2024-08-20T00:00:40.115Z"
   },
   {
    "duration": 7156,
    "start_time": "2024-08-20T00:00:50.241Z"
   },
   {
    "duration": 4,
    "start_time": "2024-08-20T00:00:59.874Z"
   },
   {
    "duration": 2487,
    "start_time": "2024-08-20T00:02:14.985Z"
   },
   {
    "duration": 1756,
    "start_time": "2024-08-20T00:02:17.474Z"
   },
   {
    "duration": 994,
    "start_time": "2024-08-20T00:02:19.231Z"
   },
   {
    "duration": 10,
    "start_time": "2024-08-20T00:02:20.227Z"
   },
   {
    "duration": 45,
    "start_time": "2024-08-20T00:02:20.238Z"
   },
   {
    "duration": 3,
    "start_time": "2024-08-20T00:02:20.285Z"
   },
   {
    "duration": 22,
    "start_time": "2024-08-20T00:02:20.290Z"
   },
   {
    "duration": 240,
    "start_time": "2024-08-20T00:02:20.314Z"
   },
   {
    "duration": 220,
    "start_time": "2024-08-20T00:02:20.555Z"
   },
   {
    "duration": 2661,
    "start_time": "2024-08-20T00:02:20.778Z"
   },
   {
    "duration": 3048,
    "start_time": "2024-08-20T00:02:23.440Z"
   },
   {
    "duration": 90,
    "start_time": "2024-08-20T00:02:26.490Z"
   },
   {
    "duration": 7108,
    "start_time": "2024-08-20T00:02:26.582Z"
   },
   {
    "duration": 5,
    "start_time": "2024-08-20T00:02:33.691Z"
   },
   {
    "duration": 1517892,
    "start_time": "2024-08-20T00:02:33.697Z"
   },
   {
    "duration": 0,
    "start_time": "2024-08-20T00:27:51.591Z"
   },
   {
    "duration": 0,
    "start_time": "2024-08-20T00:27:51.593Z"
   },
   {
    "duration": 0,
    "start_time": "2024-08-20T00:27:51.594Z"
   },
   {
    "duration": 3070,
    "start_time": "2024-08-20T13:33:16.461Z"
   },
   {
    "duration": 1532,
    "start_time": "2024-08-20T13:33:19.534Z"
   },
   {
    "duration": 11,
    "start_time": "2024-08-20T13:33:21.068Z"
   },
   {
    "duration": 39,
    "start_time": "2024-08-20T13:33:21.081Z"
   },
   {
    "duration": 5,
    "start_time": "2024-08-20T13:33:21.123Z"
   },
   {
    "duration": 38,
    "start_time": "2024-08-20T13:33:21.129Z"
   },
   {
    "duration": 272,
    "start_time": "2024-08-20T13:33:21.169Z"
   },
   {
    "duration": 241,
    "start_time": "2024-08-20T13:33:21.442Z"
   },
   {
    "duration": 2452,
    "start_time": "2024-08-20T13:33:21.685Z"
   },
   {
    "duration": 8,
    "start_time": "2024-08-20T13:33:24.139Z"
   },
   {
    "duration": 22,
    "start_time": "2024-08-20T13:33:24.148Z"
   },
   {
    "duration": 484043,
    "start_time": "2024-08-20T13:33:24.172Z"
   },
   {
    "duration": 4,
    "start_time": "2024-08-20T13:41:28.262Z"
   },
   {
    "duration": 2351236,
    "start_time": "2024-08-20T13:41:28.267Z"
   },
   {
    "duration": 0,
    "start_time": "2024-08-20T14:20:39.505Z"
   },
   {
    "duration": 0,
    "start_time": "2024-08-20T14:20:39.506Z"
   },
   {
    "duration": 0,
    "start_time": "2024-08-20T14:20:39.507Z"
   },
   {
    "duration": 0,
    "start_time": "2024-08-20T14:20:39.508Z"
   },
   {
    "duration": 0,
    "start_time": "2024-08-20T14:20:39.509Z"
   },
   {
    "duration": 1284095,
    "start_time": "2024-08-20T14:21:24.064Z"
   }
  ],
  "kernelspec": {
   "display_name": "Python 3 (ipykernel)",
   "language": "python",
   "name": "python3"
  },
  "language_info": {
   "codemirror_mode": {
    "name": "ipython",
    "version": 3
   },
   "file_extension": ".py",
   "mimetype": "text/x-python",
   "name": "python",
   "nbconvert_exporter": "python",
   "pygments_lexer": "ipython3",
   "version": "3.10.9"
  },
  "toc": {
   "base_numbering": 1,
   "nav_menu": {},
   "number_sections": true,
   "sideBar": true,
   "skip_h1_title": true,
   "title_cell": "Содержание",
   "title_sidebar": "Contents",
   "toc_cell": true,
   "toc_position": {
    "height": "calc(100% - 180px)",
    "left": "10px",
    "top": "150px",
    "width": "302.391px"
   },
   "toc_section_display": true,
   "toc_window_display": false
  }
 },
 "nbformat": 4,
 "nbformat_minor": 2
}
